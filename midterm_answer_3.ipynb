{
 "cells": [
  {
   "cell_type": "markdown",
   "id": "309dff89-b1e3-493f-844d-b1b0370b9844",
   "metadata": {},
   "source": [
    "# Question 3\n",
    "Develop a recursive function tough() that takes two nonnegative integer arguments and outputs a pattern as shown below. Hint: The first argument represents the indentation of the pattern, where the second argument -- always a pattern of 2 indicates the number *s in the longest line of *s in the pattern"
   ]
  },
  {
   "cell_type": "code",
   "execution_count": 25,
   "id": "495a3968-43f4-4fac-8275-20933645d1b6",
   "metadata": {},
   "outputs": [
    {
     "name": "stdout",
     "output_type": "stream",
     "text": [
      ">>>tough(0, 0)\n",
      "\n",
      ">>>tough(0, 1)\n",
      "*\n",
      "\n",
      ">>>tough(0, 2)\n",
      "*\n",
      "**\n",
      " *\n",
      "\n",
      ">>>tough(0, 4)\n",
      "*\n",
      "**\n",
      " *\n",
      "****\n",
      " *\n",
      " **\n",
      "  *\n",
      "\n"
     ]
    }
   ],
   "source": [
    "def tough(i, j):\n",
    "    if(j > 0):\n",
    "        f(i, j//2);               \n",
    "        print(\" \"*i + \"*\"*j);     \n",
    "        f(i + 1, j//2);   \n",
    "\n",
    "\n",
    "print(\">>>tough(0, 0)\")\n",
    "tough(0, 0)\n",
    "print()\n",
    "\n",
    "print(\">>>tough(0, 1)\")\n",
    "tough(0, 1)\n",
    "print()\n",
    "\n",
    "print(\">>>tough(0, 2)\")\n",
    "tough(0, 2)\n",
    "print()\n",
    "\n",
    "print(\">>>tough(0, 4)\")\n",
    "tough(0, 4)\n",
    "print()"
   ]
  },
  {
   "cell_type": "code",
   "execution_count": null,
   "id": "99e085d0-8406-4eb6-9b45-cd8c3306e123",
   "metadata": {},
   "outputs": [],
   "source": []
  }
 ],
 "metadata": {
  "kernelspec": {
   "display_name": "Python 3 (ipykernel)",
   "language": "python",
   "name": "python3"
  },
  "language_info": {
   "codemirror_mode": {
    "name": "ipython",
    "version": 3
   },
   "file_extension": ".py",
   "mimetype": "text/x-python",
   "name": "python",
   "nbconvert_exporter": "python",
   "pygments_lexer": "ipython3",
   "version": "3.12.3"
  }
 },
 "nbformat": 4,
 "nbformat_minor": 5
}
